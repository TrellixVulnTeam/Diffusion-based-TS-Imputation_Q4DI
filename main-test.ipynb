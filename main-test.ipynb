{
 "cells": [
  {
   "cell_type": "code",
   "execution_count": 1,
   "source": [
    "import argparse\n",
    "import torch\n",
    "import datetime\n",
    "import json\n",
    "import yaml\n",
    "import os\n",
    "\n",
    "from dataset_pm25 import get_dataloader\n",
    "from main_model import CSDI_PM25,CSDI_Physio\n",
    "from utils import train, evaluate"
   ],
   "outputs": [],
   "metadata": {}
  },
  {
   "cell_type": "code",
   "execution_count": 2,
   "source": [
    "parser = argparse.ArgumentParser(description=\"CSDI\")\n",
    "# parser.add_argument(\"--config\", type=str, default=\"base.yaml\")\n",
    "parser.add_argument(\"--config\", type=str, default=\"small.yaml\")\n",
    "\n",
    "parser.add_argument('--device', default='cuda:0', help='Device for Attack')\n",
    "parser.add_argument(\"--seed\", type=int, default=1)\n",
    "parser.add_argument(\"--testmissingratio\", type=float, default=0.1)\n",
    "parser.add_argument(\n",
    "    \"--nfold\", type=int, default=0, help=\"for 5fold test (valid value:[0-4])\"\n",
    ")\n",
    "parser.add_argument(\"--unconditional\", action=\"store_true\")\n",
    "parser.add_argument(\"--modelfolder\", type=str, default=\"\")\n",
    "parser.add_argument(\"--nsample\", type=int, default=100)\n",
    "\n",
    "args = parser.parse_args()\n",
    "print(args)\n",
    "\n",
    "path = \"config/\" + args.config\n",
    "with open(path, \"r\") as f:\n",
    "    config = yaml.safe_load(f)\n",
    "\n",
    "config[\"model\"][\"is_unconditional\"] = args.unconditional\n",
    "config[\"model\"][\"test_missing_ratio\"] = args.testmissingratio\n",
    "\n",
    "print(json.dumps(config, indent=4))\n",
    "\n",
    "current_time = datetime.datetime.now().strftime(\"%Y%m%d_%H%M%S\")\n",
    "foldername = \"./save/physio_fold\" + str(args.nfold) + \"_\" + current_time + \"/\"\n",
    "print('model folder:', foldername)\n",
    "os.makedirs(foldername, exist_ok=True)\n",
    "with open(foldername + \"config.json\", \"w\") as f:\n",
    "    json.dump(config, f, indent=4)"
   ],
   "outputs": [
    {
     "output_type": "stream",
     "name": "stderr",
     "text": [
      "usage: ipykernel_launcher.py [-h] [--config CONFIG] [--device DEVICE]\n",
      "                             [--seed SEED]\n",
      "                             [--testmissingratio TESTMISSINGRATIO]\n",
      "                             [--nfold NFOLD] [--unconditional]\n",
      "                             [--modelfolder MODELFOLDER] [--nsample NSAMPLE]\n",
      "ipykernel_launcher.py: error: unrecognized arguments: --ip=127.0.0.1 --stdin=9003 --control=9001 --hb=9000 --Session.signature_scheme=\"hmac-sha256\" --Session.key=b\"04a46126-126b-4aaf-b6b6-589f8ba843cc\" --shell=9002 --transport=\"tcp\" --iopub=9004 --f=/tmp/tmp-25403dWBh23mIUedW.json\n"
     ]
    },
    {
     "output_type": "error",
     "ename": "SystemExit",
     "evalue": "2",
     "traceback": [
      "An exception has occurred, use %tb to see the full traceback.\n",
      "\u001b[0;31mSystemExit\u001b[0m\u001b[0;31m:\u001b[0m 2\n"
     ]
    },
    {
     "output_type": "stream",
     "name": "stderr",
     "text": [
      "/home/zenus/anaconda3/envs/pytorch_1.10.1/lib/python3.9/site-packages/IPython/core/interactiveshell.py:3406: UserWarning: To exit: use 'exit', 'quit', or Ctrl-D.\n",
      "  warn(\"To exit: use 'exit', 'quit', or Ctrl-D.\", stacklevel=1)\n"
     ]
    }
   ],
   "metadata": {}
  },
  {
   "cell_type": "code",
   "execution_count": 11,
   "source": [
    "\n",
    "path = \"config/\" + args.config\n",
    "with open(path, \"r\") as f:\n",
    "    config = yaml.safe_load(f)\n",
    "\n",
    "config[\"model\"][\"is_unconditional\"] = args.unconditional\n",
    "config[\"model\"][\"test_missing_ratio\"] = args.testmissingratio\n",
    "\n",
    "print(json.dumps(config, indent=4))\n",
    "\n",
    "current_time = datetime.datetime.now().strftime(\"%Y%m%d_%H%M%S\")\n",
    "foldername = \"./save/physio_fold\" + str(args.nfold) + \"_\" + current_time + \"/\"\n",
    "print('model folder:', foldername)\n",
    "os.makedirs(foldername, exist_ok=True)\n",
    "with open(foldername + \"config.json\", \"w\") as f:\n",
    "    json.dump(config, f, indent=4)"
   ],
   "outputs": [
    {
     "output_type": "error",
     "ename": "AttributeError",
     "evalue": "'Namespace' object has no attribute 'testmissingratio'",
     "traceback": [
      "\u001b[0;31m---------------------------------------------------------------------------\u001b[0m",
      "\u001b[0;31mAttributeError\u001b[0m                            Traceback (most recent call last)",
      "Input \u001b[0;32mIn [11]\u001b[0m, in \u001b[0;36m<cell line: 6>\u001b[0;34m()\u001b[0m\n\u001b[1;32m      3\u001b[0m     config \u001b[38;5;241m=\u001b[39m yaml\u001b[38;5;241m.\u001b[39msafe_load(f)\n\u001b[1;32m      5\u001b[0m config[\u001b[38;5;124m\"\u001b[39m\u001b[38;5;124mmodel\u001b[39m\u001b[38;5;124m\"\u001b[39m][\u001b[38;5;124m\"\u001b[39m\u001b[38;5;124mis_unconditional\u001b[39m\u001b[38;5;124m\"\u001b[39m] \u001b[38;5;241m=\u001b[39m args\u001b[38;5;241m.\u001b[39munconditional\n\u001b[0;32m----> 6\u001b[0m config[\u001b[38;5;124m\"\u001b[39m\u001b[38;5;124mmodel\u001b[39m\u001b[38;5;124m\"\u001b[39m][\u001b[38;5;124m\"\u001b[39m\u001b[38;5;124mtest_missing_ratio\u001b[39m\u001b[38;5;124m\"\u001b[39m] \u001b[38;5;241m=\u001b[39m \u001b[43margs\u001b[49m\u001b[38;5;241;43m.\u001b[39;49m\u001b[43mtestmissingratio\u001b[49m\n\u001b[1;32m      8\u001b[0m \u001b[38;5;28mprint\u001b[39m(json\u001b[38;5;241m.\u001b[39mdumps(config, indent\u001b[38;5;241m=\u001b[39m\u001b[38;5;241m4\u001b[39m))\n\u001b[1;32m     10\u001b[0m current_time \u001b[38;5;241m=\u001b[39m datetime\u001b[38;5;241m.\u001b[39mdatetime\u001b[38;5;241m.\u001b[39mnow()\u001b[38;5;241m.\u001b[39mstrftime(\u001b[38;5;124m\"\u001b[39m\u001b[38;5;124m%\u001b[39m\u001b[38;5;124mY\u001b[39m\u001b[38;5;124m%\u001b[39m\u001b[38;5;124mm\u001b[39m\u001b[38;5;132;01m%d\u001b[39;00m\u001b[38;5;124m_\u001b[39m\u001b[38;5;124m%\u001b[39m\u001b[38;5;124mH\u001b[39m\u001b[38;5;124m%\u001b[39m\u001b[38;5;124mM\u001b[39m\u001b[38;5;124m%\u001b[39m\u001b[38;5;124mS\u001b[39m\u001b[38;5;124m\"\u001b[39m)\n",
      "\u001b[0;31mAttributeError\u001b[0m: 'Namespace' object has no attribute 'testmissingratio'"
     ]
    }
   ],
   "metadata": {}
  },
  {
   "cell_type": "code",
   "execution_count": 5,
   "source": [
    "train_loader, valid_loader, test_loader, scaler, mean_scaler = get_dataloader(\n",
    "    config[\"train\"][\"batch_size\"], device=args.device, validindex=args.validationindex\n",
    ")\n",
    "model = CSDI_PM25(config, args.device).to(args.device)"
   ],
   "outputs": [],
   "metadata": {}
  },
  {
   "cell_type": "code",
   "execution_count": 17,
   "source": [
    "item = next(iter(valid_loader))\n",
    "item[\"observed_data\"].shape"
   ],
   "outputs": [
    {
     "output_type": "execute_result",
     "data": {
      "text/plain": [
       "torch.Size([16, 36, 36])"
      ]
     },
     "metadata": {},
     "execution_count": 17
    }
   ],
   "metadata": {}
  },
  {
   "cell_type": "code",
   "execution_count": 18,
   "source": [
    "train_loader, valid_loader, test_loader, scaler, mean_scaler = get_dataloader(\n",
    "    config[\"train\"][\"batch_size\"], device=args.device, validindex=args.validationindex\n",
    ")\n",
    "model = CSDI_PM25(config, args.device).to(args.device)"
   ],
   "outputs": [],
   "metadata": {}
  }
 ],
 "metadata": {
  "kernelspec": {
   "name": "python3",
   "display_name": "Python 3.9.7 64-bit ('pytorch_1.10.1': conda)"
  },
  "language_info": {
   "codemirror_mode": {
    "name": "ipython",
    "version": 3
   },
   "file_extension": ".py",
   "mimetype": "text/x-python",
   "name": "python",
   "nbconvert_exporter": "python",
   "pygments_lexer": "ipython3",
   "version": "3.9.7"
  },
  "interpreter": {
   "hash": "c2b9b245c32fdd00062c065bea1c6c406b1fa841caa084ac758573a37ef3ce19"
  }
 },
 "nbformat": 4,
 "nbformat_minor": 4
}