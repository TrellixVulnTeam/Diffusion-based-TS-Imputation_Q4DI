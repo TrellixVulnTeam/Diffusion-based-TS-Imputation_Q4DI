{
 "cells": [
  {
   "cell_type": "code",
   "execution_count": 1,
   "source": [
    "import argparse\n",
    "import torch\n",
    "import datetime\n",
    "import json\n",
    "import yaml\n",
    "import os\n",
    "\n",
    "from dataset_pm25 import get_dataloader\n",
    "from main_model import CSDI_PM25\n",
    "from utils import train, evaluate"
   ],
   "outputs": [],
   "metadata": {}
  },
  {
   "cell_type": "code",
   "execution_count": 3,
   "source": [
    "parser = argparse.ArgumentParser(description=\"CSDI\")\n",
    "parser.add_argument(\"--config\", type=str, default=\"base.yaml\")\n",
    "parser.add_argument('--device', default='cuda:0', help='Device for Attack')\n",
    "parser.add_argument(\"--modelfolder\", type=str, default=\"\")\n",
    "parser.add_argument(\n",
    "    \"--targetstrategy\", type=str, default=\"mix\", choices=[\"mix\", \"random\", \"historical\"]\n",
    ")\n",
    "parser.add_argument(\n",
    "    \"--validationindex\", type=int, default=0, help=\"index of month used for validation (value:[0-7])\"\n",
    ")\n",
    "parser.add_argument(\"--nsample\", type=int, default=100)\n",
    "parser.add_argument(\"--unconditional\", action=\"store_true\")\n",
    "\n",
    "args_str = '--nsample 16 --config small_try.yaml'\n",
    "\n",
    "args = parser.parse_args(args_str.split())\n",
    "print(args)"
   ],
   "outputs": [
    {
     "output_type": "stream",
     "name": "stdout",
     "text": [
      "Namespace(config='small_try.yaml', device='cuda:0', modelfolder='', targetstrategy='mix', validationindex=0, nsample=16, unconditional=False)\n"
     ]
    }
   ],
   "metadata": {}
  },
  {
   "cell_type": "code",
   "execution_count": 4,
   "source": [
    "path = \"config/\" + args.config\n",
    "with open(path, \"r\") as f:\n",
    "    config = yaml.safe_load(f)\n",
    "\n",
    "config[\"model\"][\"is_unconditional\"] = args.unconditional\n",
    "config[\"model\"][\"target_strategy\"] = args.targetstrategy\n",
    "\n",
    "print(json.dumps(config, indent=4))\n",
    "\n",
    "current_time = datetime.datetime.now().strftime(\"%Y%m%d_%H%M%S\") \n",
    "foldername = (\n",
    "    \"./save/pm25_validationindex\" + str(args.validationindex) + \"_\" + current_time + \"/\"\n",
    ")\n",
    "\n",
    "print('model folder:', foldername)\n",
    "os.makedirs(foldername, exist_ok=True)\n",
    "with open(foldername + \"config.json\", \"w\") as f:\n",
    "    json.dump(config, f, indent=4)"
   ],
   "outputs": [
    {
     "output_type": "stream",
     "name": "stdout",
     "text": [
      "{\n",
      "    \"train\": {\n",
      "        \"epochs\": 100,\n",
      "        \"batch_size\": 16,\n",
      "        \"lr\": 0.001\n",
      "    },\n",
      "    \"diffusion\": {\n",
      "        \"layers\": 4,\n",
      "        \"channels\": 16,\n",
      "        \"nheads\": 4,\n",
      "        \"diffusion_embedding_dim\": 4,\n",
      "        \"beta_start\": 0.0001,\n",
      "        \"beta_end\": 0.5,\n",
      "        \"num_steps\": 50,\n",
      "        \"schedule\": \"quad\"\n",
      "    },\n",
      "    \"model\": {\n",
      "        \"is_unconditional\": false,\n",
      "        \"timeemb\": 12,\n",
      "        \"featureemb\": 16,\n",
      "        \"target_strategy\": \"mix\"\n",
      "    }\n",
      "}\n",
      "model folder: ./save/pm25_validationindex0_20220617_135452/\n"
     ]
    }
   ],
   "metadata": {}
  },
  {
   "cell_type": "code",
   "execution_count": 5,
   "source": [
    "train_loader, valid_loader, test_loader, scaler, mean_scaler = get_dataloader(\n",
    "    config[\"train\"][\"batch_size\"], device=args.device, validindex=args.validationindex\n",
    ")\n",
    "model = CSDI_PM25(config, args.device).to(args.device)"
   ],
   "outputs": [],
   "metadata": {}
  },
  {
   "cell_type": "code",
   "execution_count": 17,
   "source": [
    "item = next(iter(valid_loader))\n",
    "item[\"observed_data\"].shape"
   ],
   "outputs": [
    {
     "output_type": "execute_result",
     "data": {
      "text/plain": [
       "torch.Size([16, 36, 36])"
      ]
     },
     "metadata": {},
     "execution_count": 17
    }
   ],
   "metadata": {}
  },
  {
   "cell_type": "code",
   "execution_count": 18,
   "source": [
    "train_loader, valid_loader, test_loader, scaler, mean_scaler = get_dataloader(\n",
    "    config[\"train\"][\"batch_size\"], device=args.device, validindex=args.validationindex\n",
    ")\n",
    "model = CSDI_PM25(config, args.device).to(args.device)"
   ],
   "outputs": [],
   "metadata": {}
  },
  {
   "cell_type": "code",
   "execution_count": null,
   "source": [],
   "outputs": [],
   "metadata": {}
  },
  {
   "cell_type": "code",
   "execution_count": null,
   "source": [],
   "outputs": [],
   "metadata": {}
  }
 ],
 "metadata": {
  "kernelspec": {
   "name": "python3",
   "display_name": "Python 3.9.7 64-bit ('pytorch_1.10.1': conda)"
  },
  "language_info": {
   "codemirror_mode": {
    "name": "ipython",
    "version": 3
   },
   "file_extension": ".py",
   "mimetype": "text/x-python",
   "name": "python",
   "nbconvert_exporter": "python",
   "pygments_lexer": "ipython3",
   "version": "3.9.7"
  },
  "interpreter": {
   "hash": "c2b9b245c32fdd00062c065bea1c6c406b1fa841caa084ac758573a37ef3ce19"
  }
 },
 "nbformat": 4,
 "nbformat_minor": 4
}